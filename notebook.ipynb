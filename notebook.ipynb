{
 "cells": [
  {
   "cell_type": "code",
   "execution_count": null,
   "metadata": {},
   "outputs": [],
   "source": [
    "import alpha_rptr as ar"
   ]
  },
  {
   "cell_type": "code",
   "execution_count": null,
   "metadata": {},
   "outputs": [],
   "source": [
    "ACCOUNT='binanceaccount2'"
   ]
  },
  {
   "cell_type": "markdown",
   "metadata": {},
   "source": []
  },
  {
   "cell_type": "code",
   "execution_count": null,
   "metadata": {},
   "outputs": [],
   "source": [
    "# download data\n",
    "def download_data_to_file(\n",
    "    pair,\n",
    "    bin_size,\n",
    "    start,\n",
    "    end,\n",
    "    file,\n",
    "):\n",
    "    test_exchange=ar.BinanceFuturesBackTest(account=ACCOUNT, pair=pair)\n",
    "    df=test_exchange(bin_size=bin_size, start=start, end=end)\n",
    "    test_exchange.save_csv(df, file)"
   ]
  },
  {
   "cell_type": "code",
   "execution_count": null,
   "metadata": {},
   "outputs": [],
   "source": [
    "from main import Bot\n",
    "from datetime import timedelta, datetime, timezone"
   ]
  },
  {
   "cell_type": "code",
   "execution_count": null,
   "metadata": {},
   "outputs": [],
   "source": [
    "\n",
    "        # start_time = datetime.now(timezone.utc) - 1 * timedelta(days=30)\n",
    "        # end_time = datetime.now(timezone.utc)"
   ]
  },
  {
   "cell_type": "code",
   "execution_count": null,
   "metadata": {},
   "outputs": [],
   "source": [
    "bot=Bot()"
   ]
  },
  {
   "cell_type": "code",
   "execution_count": null,
   "metadata": {},
   "outputs": [],
   "source": [
    "file_name='btcusdt_1year.csv'\n",
    "start=datetime.now(timezone.utc) - 1 * timedelta(days=360)\n",
    "end_time = datetime.now(timezone.utc)"
   ]
  },
  {
   "cell_type": "code",
   "execution_count": null,
   "metadata": {},
   "outputs": [],
   "source": [
    "bot.download_data_to_file(file=file_name, start=start, end=end_time)"
   ]
  },
  {
   "cell_type": "code",
   "execution_count": null,
   "metadata": {},
   "outputs": [],
   "source": [
    "bot.backtest(file_name)"
   ]
  },
  {
   "cell_type": "code",
   "execution_count": null,
   "metadata": {},
   "outputs": [],
   "source": [
    "bot.backtest(None)"
   ]
  },
  {
   "cell_type": "code",
   "execution_count": null,
   "metadata": {},
   "outputs": [],
   "source": [
    "from main import BinanceFutures\n",
    "\n",
    "x=BinanceFutures()"
   ]
  },
  {
   "cell_type": "code",
   "execution_count": null,
   "metadata": {},
   "outputs": [],
   "source": [
    "q = x.get_all_pairs()"
   ]
  },
  {
   "cell_type": "code",
   "execution_count": null,
   "metadata": {},
   "outputs": [],
   "source": [
    "q\n"
   ]
  },
  {
   "cell_type": "code",
   "execution_count": null,
   "metadata": {},
   "outputs": [],
   "source": [
    "[p['symbol'] for p in q[0]['symbols']]"
   ]
  },
  {
   "cell_type": "code",
   "execution_count": 1,
   "metadata": {},
   "outputs": [],
   "source": [
    "from main import BinanceFutures\n",
    "\n",
    "x=BinanceFutures().client"
   ]
  },
  {
   "cell_type": "code",
   "execution_count": 2,
   "metadata": {},
   "outputs": [],
   "source": [
    "q=x.future"
   ]
  },
  {
   "cell_type": "code",
   "execution_count": 7,
   "metadata": {},
   "outputs": [
    {
     "data": {
      "text/plain": [
       "dict_keys(['timezone', 'serverTime', 'futuresType', 'rateLimits', 'exchangeFilters', 'assets', 'symbols'])"
      ]
     },
     "execution_count": 7,
     "metadata": {},
     "output_type": "execute_result"
    }
   ],
   "source": [
    "q[0].keys()"
   ]
  },
  {
   "cell_type": "code",
   "execution_count": 10,
   "metadata": {},
   "outputs": [
    {
     "data": {
      "text/plain": [
       "'U_MARGINED'"
      ]
     },
     "execution_count": 10,
     "metadata": {},
     "output_type": "execute_result"
    }
   ],
   "source": [
    "q[0]['futuresType']"
   ]
  },
  {
   "cell_type": "code",
   "execution_count": 11,
   "metadata": {},
   "outputs": [],
   "source": [
    "import requests\n",
    "url='https://www.binance.com/exchange-api/v2/public/asset-service/product/get-products'\n",
    "response=requests.get(url)\n",
    "ei=response.json()"
   ]
  },
  {
   "cell_type": "code",
   "execution_count": 16,
   "metadata": {},
   "outputs": [
    {
     "data": {
      "text/plain": [
       "{'s': 'BNBBTC',\n",
       " 'st': 'TRADING',\n",
       " 'b': 'BNB',\n",
       " 'q': 'BTC',\n",
       " 'ba': '',\n",
       " 'qa': '฿',\n",
       " 'i': '0.00100000',\n",
       " 'ts': '0.000001',\n",
       " 'an': 'BNB',\n",
       " 'qn': 'Bitcoin',\n",
       " 'o': '0.009766',\n",
       " 'h': '0.010015',\n",
       " 'l': '0.009719',\n",
       " 'c': '0.009950',\n",
       " 'v': '121058.211000',\n",
       " 'qv': '1200.9440778',\n",
       " 'y': 0,\n",
       " 'as': 121058.211,\n",
       " 'pm': 'BTC',\n",
       " 'pn': 'BTC',\n",
       " 'cs': 165116761,\n",
       " 'tags': ['pos', 'mining-zone', 'BSC', 'Layer1_Layer2'],\n",
       " 'pom': False,\n",
       " 'pomt': None,\n",
       " 'lc': False,\n",
       " 'g': True,\n",
       " 'sd': False,\n",
       " 'etf': False}"
      ]
     },
     "execution_count": 16,
     "metadata": {},
     "output_type": "execute_result"
    }
   ],
   "source": [
    "ei['data'][0]"
   ]
  },
  {
   "cell_type": "code",
   "execution_count": 21,
   "metadata": {},
   "outputs": [],
   "source": [
    "import pandas as pd"
   ]
  },
  {
   "cell_type": "code",
   "execution_count": 43,
   "metadata": {},
   "outputs": [],
   "source": [
    "\n",
    "df = pd.DataFrame([x for x in ei['data'] if x['s'].endswith('USDT')])\n"
   ]
  },
  {
   "cell_type": "code",
   "execution_count": 44,
   "metadata": {},
   "outputs": [],
   "source": [
    "df['c']=df['c'].astype(float)\n",
    "df['cs']=df['cs'].astype(float)"
   ]
  },
  {
   "cell_type": "code",
   "execution_count": 55,
   "metadata": {},
   "outputs": [],
   "source": [
    "df['mc']=(df['c']*df['cs'])/(1000000000)"
   ]
  },
  {
   "cell_type": "code",
   "execution_count": 57,
   "metadata": {},
   "outputs": [
    {
     "data": {
      "text/html": [
       "<div>\n",
       "<style scoped>\n",
       "    .dataframe tbody tr th:only-of-type {\n",
       "        vertical-align: middle;\n",
       "    }\n",
       "\n",
       "    .dataframe tbody tr th {\n",
       "        vertical-align: top;\n",
       "    }\n",
       "\n",
       "    .dataframe thead th {\n",
       "        text-align: right;\n",
       "    }\n",
       "</style>\n",
       "<table border=\"1\" class=\"dataframe\">\n",
       "  <thead>\n",
       "    <tr style=\"text-align: right;\">\n",
       "      <th></th>\n",
       "      <th>mc</th>\n",
       "      <th>s</th>\n",
       "    </tr>\n",
       "  </thead>\n",
       "  <tbody>\n",
       "    <tr>\n",
       "      <th>0</th>\n",
       "      <td>734.890459</td>\n",
       "      <td>BTCUSDT</td>\n",
       "    </tr>\n",
       "    <tr>\n",
       "      <th>239</th>\n",
       "      <td>333.547261</td>\n",
       "      <td>ETHUSDT</td>\n",
       "    </tr>\n",
       "    <tr>\n",
       "      <th>238</th>\n",
       "      <td>63.735070</td>\n",
       "      <td>BNBUSDT</td>\n",
       "    </tr>\n",
       "    <tr>\n",
       "      <th>213</th>\n",
       "      <td>49.991709</td>\n",
       "      <td>USDCUSDT</td>\n",
       "    </tr>\n",
       "    <tr>\n",
       "      <th>4</th>\n",
       "      <td>36.385809</td>\n",
       "      <td>ADAUSDT</td>\n",
       "    </tr>\n",
       "    <tr>\n",
       "      <th>184</th>\n",
       "      <td>34.764613</td>\n",
       "      <td>SOLUSDT</td>\n",
       "    </tr>\n",
       "    <tr>\n",
       "      <th>228</th>\n",
       "      <td>30.040843</td>\n",
       "      <td>XRPUSDT</td>\n",
       "    </tr>\n",
       "    <tr>\n",
       "      <th>126</th>\n",
       "      <td>20.854234</td>\n",
       "      <td>LUNAUSDT</td>\n",
       "    </tr>\n",
       "    <tr>\n",
       "      <th>70</th>\n",
       "      <td>19.425685</td>\n",
       "      <td>DOTUSDT</td>\n",
       "    </tr>\n",
       "    <tr>\n",
       "      <th>69</th>\n",
       "      <td>18.918851</td>\n",
       "      <td>DOGEUSDT</td>\n",
       "    </tr>\n",
       "    <tr>\n",
       "      <th>24</th>\n",
       "      <td>17.944584</td>\n",
       "      <td>AVAXUSDT</td>\n",
       "    </tr>\n",
       "    <tr>\n",
       "      <th>39</th>\n",
       "      <td>15.310444</td>\n",
       "      <td>BUSDUSDT</td>\n",
       "    </tr>\n",
       "    <tr>\n",
       "      <th>129</th>\n",
       "      <td>12.273461</td>\n",
       "      <td>MATICUSDT</td>\n",
       "    </tr>\n",
       "    <tr>\n",
       "      <th>180</th>\n",
       "      <td>11.914673</td>\n",
       "      <td>SHIBUSDT</td>\n",
       "    </tr>\n",
       "    <tr>\n",
       "      <th>305</th>\n",
       "      <td>11.260322</td>\n",
       "      <td>USTUSDT</td>\n",
       "    </tr>\n",
       "    <tr>\n",
       "      <th>19</th>\n",
       "      <td>8.310466</td>\n",
       "      <td>ATOMUSDT</td>\n",
       "    </tr>\n",
       "    <tr>\n",
       "      <th>124</th>\n",
       "      <td>8.052914</td>\n",
       "      <td>LTCUSDT</td>\n",
       "    </tr>\n",
       "    <tr>\n",
       "      <th>119</th>\n",
       "      <td>7.943832</td>\n",
       "      <td>LINKUSDT</td>\n",
       "    </tr>\n",
       "    <tr>\n",
       "      <th>140</th>\n",
       "      <td>7.052420</td>\n",
       "      <td>NEARUSDT</td>\n",
       "    </tr>\n",
       "    <tr>\n",
       "      <th>212</th>\n",
       "      <td>7.001110</td>\n",
       "      <td>UNIUSDT</td>\n",
       "    </tr>\n",
       "    <tr>\n",
       "      <th>7</th>\n",
       "      <td>6.329799</td>\n",
       "      <td>ALGOUSDT</td>\n",
       "    </tr>\n",
       "    <tr>\n",
       "      <th>90</th>\n",
       "      <td>6.253947</td>\n",
       "      <td>FTTUSDT</td>\n",
       "    </tr>\n",
       "    <tr>\n",
       "      <th>206</th>\n",
       "      <td>6.085700</td>\n",
       "      <td>TRXUSDT</td>\n",
       "    </tr>\n",
       "    <tr>\n",
       "      <th>31</th>\n",
       "      <td>5.474973</td>\n",
       "      <td>BCHUSDT</td>\n",
       "    </tr>\n",
       "    <tr>\n",
       "      <th>89</th>\n",
       "      <td>5.276816</td>\n",
       "      <td>FTMUSDT</td>\n",
       "    </tr>\n",
       "    <tr>\n",
       "      <th>226</th>\n",
       "      <td>5.014369</td>\n",
       "      <td>XLMUSDT</td>\n",
       "    </tr>\n",
       "    <tr>\n",
       "      <th>127</th>\n",
       "      <td>4.922495</td>\n",
       "      <td>MANAUSDT</td>\n",
       "    </tr>\n",
       "    <tr>\n",
       "      <th>98</th>\n",
       "      <td>4.157724</td>\n",
       "      <td>HBARUSDT</td>\n",
       "    </tr>\n",
       "    <tr>\n",
       "      <th>102</th>\n",
       "      <td>4.014143</td>\n",
       "      <td>ICPUSDT</td>\n",
       "    </tr>\n",
       "    <tr>\n",
       "      <th>177</th>\n",
       "      <td>3.679681</td>\n",
       "      <td>SANDUSDT</td>\n",
       "    </tr>\n",
       "    <tr>\n",
       "      <th>78</th>\n",
       "      <td>3.559253</td>\n",
       "      <td>ETCUSDT</td>\n",
       "    </tr>\n",
       "    <tr>\n",
       "      <th>215</th>\n",
       "      <td>3.513560</td>\n",
       "      <td>VETUSDT</td>\n",
       "    </tr>\n",
       "    <tr>\n",
       "      <th>229</th>\n",
       "      <td>3.263555</td>\n",
       "      <td>XTZUSDT</td>\n",
       "    </tr>\n",
       "    <tr>\n",
       "      <th>25</th>\n",
       "      <td>3.262815</td>\n",
       "      <td>AXSUSDT</td>\n",
       "    </tr>\n",
       "    <tr>\n",
       "      <th>82</th>\n",
       "      <td>3.255379</td>\n",
       "      <td>FILUSDT</td>\n",
       "    </tr>\n",
       "    <tr>\n",
       "      <th>114</th>\n",
       "      <td>3.128494</td>\n",
       "      <td>KLAYUSDT</td>\n",
       "    </tr>\n",
       "    <tr>\n",
       "      <th>73</th>\n",
       "      <td>3.111714</td>\n",
       "      <td>EGLDUSDT</td>\n",
       "    </tr>\n",
       "    <tr>\n",
       "      <th>100</th>\n",
       "      <td>2.982036</td>\n",
       "      <td>HNTUSDT</td>\n",
       "    </tr>\n",
       "    <tr>\n",
       "      <th>198</th>\n",
       "      <td>2.922000</td>\n",
       "      <td>THETAUSDT</td>\n",
       "    </tr>\n",
       "    <tr>\n",
       "      <th>227</th>\n",
       "      <td>2.651155</td>\n",
       "      <td>XMRUSDT</td>\n",
       "    </tr>\n",
       "    <tr>\n",
       "      <th>106</th>\n",
       "      <td>2.339809</td>\n",
       "      <td>IOTAUSDT</td>\n",
       "    </tr>\n",
       "    <tr>\n",
       "      <th>75</th>\n",
       "      <td>2.310281</td>\n",
       "      <td>EOSUSDT</td>\n",
       "    </tr>\n",
       "    <tr>\n",
       "      <th>2</th>\n",
       "      <td>2.208624</td>\n",
       "      <td>AAVEUSDT</td>\n",
       "    </tr>\n",
       "    <tr>\n",
       "      <th>150</th>\n",
       "      <td>2.178419</td>\n",
       "      <td>ONEUSDT</td>\n",
       "    </tr>\n",
       "    <tr>\n",
       "      <th>136</th>\n",
       "      <td>2.145900</td>\n",
       "      <td>MKRUSDT</td>\n",
       "    </tr>\n",
       "    <tr>\n",
       "      <th>87</th>\n",
       "      <td>2.124790</td>\n",
       "      <td>FLOWUSDT</td>\n",
       "    </tr>\n",
       "    <tr>\n",
       "      <th>93</th>\n",
       "      <td>2.074923</td>\n",
       "      <td>GRTUSDT</td>\n",
       "    </tr>\n",
       "    <tr>\n",
       "      <th>41</th>\n",
       "      <td>2.031834</td>\n",
       "      <td>CAKEUSDT</td>\n",
       "    </tr>\n",
       "    <tr>\n",
       "      <th>190</th>\n",
       "      <td>1.931794</td>\n",
       "      <td>STXUSDT</td>\n",
       "    </tr>\n",
       "    <tr>\n",
       "      <th>53</th>\n",
       "      <td>1.588191</td>\n",
       "      <td>CRVUSDT</td>\n",
       "    </tr>\n",
       "  </tbody>\n",
       "</table>\n",
       "</div>"
      ],
      "text/plain": [
       "             mc          s\n",
       "0    734.890459    BTCUSDT\n",
       "239  333.547261    ETHUSDT\n",
       "238   63.735070    BNBUSDT\n",
       "213   49.991709   USDCUSDT\n",
       "4     36.385809    ADAUSDT\n",
       "184   34.764613    SOLUSDT\n",
       "228   30.040843    XRPUSDT\n",
       "126   20.854234   LUNAUSDT\n",
       "70    19.425685    DOTUSDT\n",
       "69    18.918851   DOGEUSDT\n",
       "24    17.944584   AVAXUSDT\n",
       "39    15.310444   BUSDUSDT\n",
       "129   12.273461  MATICUSDT\n",
       "180   11.914673   SHIBUSDT\n",
       "305   11.260322    USTUSDT\n",
       "19     8.310466   ATOMUSDT\n",
       "124    8.052914    LTCUSDT\n",
       "119    7.943832   LINKUSDT\n",
       "140    7.052420   NEARUSDT\n",
       "212    7.001110    UNIUSDT\n",
       "7      6.329799   ALGOUSDT\n",
       "90     6.253947    FTTUSDT\n",
       "206    6.085700    TRXUSDT\n",
       "31     5.474973    BCHUSDT\n",
       "89     5.276816    FTMUSDT\n",
       "226    5.014369    XLMUSDT\n",
       "127    4.922495   MANAUSDT\n",
       "98     4.157724   HBARUSDT\n",
       "102    4.014143    ICPUSDT\n",
       "177    3.679681   SANDUSDT\n",
       "78     3.559253    ETCUSDT\n",
       "215    3.513560    VETUSDT\n",
       "229    3.263555    XTZUSDT\n",
       "25     3.262815    AXSUSDT\n",
       "82     3.255379    FILUSDT\n",
       "114    3.128494   KLAYUSDT\n",
       "73     3.111714   EGLDUSDT\n",
       "100    2.982036    HNTUSDT\n",
       "198    2.922000  THETAUSDT\n",
       "227    2.651155    XMRUSDT\n",
       "106    2.339809   IOTAUSDT\n",
       "75     2.310281    EOSUSDT\n",
       "2      2.208624   AAVEUSDT\n",
       "150    2.178419    ONEUSDT\n",
       "136    2.145900    MKRUSDT\n",
       "87     2.124790   FLOWUSDT\n",
       "93     2.074923    GRTUSDT\n",
       "41     2.031834   CAKEUSDT\n",
       "190    1.931794    STXUSDT\n",
       "53     1.588191    CRVUSDT"
      ]
     },
     "execution_count": 57,
     "metadata": {},
     "output_type": "execute_result"
    }
   ],
   "source": [
    "df[['mc', 's']].dropna().sort_values('mc', ascending=False).head(50)"
   ]
  },
  {
   "cell_type": "code",
   "execution_count": 41,
   "metadata": {},
   "outputs": [
    {
     "data": {
      "text/plain": [
       "True"
      ]
     },
     "execution_count": 41,
     "metadata": {},
     "output_type": "execute_result"
    }
   ],
   "source": [
    "'dsfadsf'.endswith('f')"
   ]
  },
  {
   "cell_type": "code",
   "execution_count": null,
   "metadata": {},
   "outputs": [],
   "source": []
  }
 ],
 "metadata": {
  "interpreter": {
   "hash": "5c2a7c92e439b2687a95bf9b777254bba639c42dd0f02f81f65826efe36faa49"
  },
  "kernelspec": {
   "display_name": "Python 3.8.10 64-bit ('banana-gmZt2JZW': pipenv)",
   "language": "python",
   "name": "python3"
  },
  "language_info": {
   "codemirror_mode": {
    "name": "ipython",
    "version": 3
   },
   "file_extension": ".py",
   "mimetype": "text/x-python",
   "name": "python",
   "nbconvert_exporter": "python",
   "pygments_lexer": "ipython3",
   "version": "3.8.10"
  },
  "orig_nbformat": 4
 },
 "nbformat": 4,
 "nbformat_minor": 2
}
